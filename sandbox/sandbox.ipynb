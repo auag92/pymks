{
 "cells": [
  {
   "cell_type": "code",
   "execution_count": null,
   "metadata": {},
   "outputs": [],
   "source": [
    "import numpy as np\n",
    "from dask.distributed import Client\n",
    "import dask.array as da"
   ]
  },
  {
   "cell_type": "code",
   "execution_count": null,
   "metadata": {
    "scrolled": true
   },
   "outputs": [],
   "source": [
    "client = Client()  # set up local cluster on your lapotp\n",
    "client"
   ]
  },
  {
   "cell_type": "code",
   "execution_count": null,
   "metadata": {},
   "outputs": [],
   "source": [
    "a = da.random.random((10, 100), chunks=(10,100))"
   ]
  },
  {
   "cell_type": "code",
   "execution_count": null,
   "metadata": {},
   "outputs": [],
   "source": [
    "?a.compute"
   ]
  },
  {
   "cell_type": "code",
   "execution_count": null,
   "metadata": {},
   "outputs": [],
   "source": [
    "import numpy as np\n",
    "import mks_base.cahnHillSolver as ch\n",
    "import matplotlib.pyplot as plt\n",
    "\n",
    "def draw(X):\n",
    "    plt.imshow(X)\n",
    "    plt.colorbar()\n",
    "    plt.show()\n",
    "\n",
    "n_samples = 2\n",
    "dt = 1e-2\n",
    "X, y = ch.make_dataset(seed=99, tsteps=100, shape=(n_samples,51,51), dx=0.1, dt=dt, gamma=1.)\n",
    "draw(X[0])\n",
    "draw(y[0])"
   ]
  },
  {
   "cell_type": "code",
   "execution_count": null,
   "metadata": {},
   "outputs": [],
   "source": [
    "from fmks.data.cahn_hilliard import solve_cahn_hilliard\n",
    "from fmks.fext import map_blocks, da_iterate\n",
    "import numpy as np\n",
    "import dask.array as da\n",
    "\n",
    "solve = map_blocks(solve_cahn_hilliard(gamma=1., delta_t=1.))\n",
    "\n",
    "#data = da.from_array(X, chunks=(1, 40, 40))\n",
    "da.random.seed(101)\n",
    "data = 0.01 * (2. * da.random.random((2, 101, 101, 101), chunks=(2, 101, 101, 101)) - 1.)\n",
    "\n",
    "iterator = da_iterate(solve, 10)\n",
    "\n",
    "data_out = iterator(data).compute()"
   ]
  },
  {
   "cell_type": "code",
   "execution_count": null,
   "metadata": {},
   "outputs": [],
   "source": [
    "print(max(data_out.flat))\n",
    "print(min(data_out.flat))"
   ]
  },
  {
   "cell_type": "code",
   "execution_count": null,
   "metadata": {},
   "outputs": [],
   "source": [
    "from pymks.tools import draw_concentrations\n",
    "\n",
    "draw_concentrations((data.compute()[0], data_out[0]), labels=('Input Concentration', 'Output Concentration'))"
   ]
  },
  {
   "cell_type": "code",
   "execution_count": null,
   "metadata": {},
   "outputs": [],
   "source": [
    "print(max(data_out.flat))"
   ]
  },
  {
   "cell_type": "code",
   "execution_count": null,
   "metadata": {},
   "outputs": [],
   "source": [
    "%matplotlib inline\n",
    "\n",
    "import matplotlib.pyplot as plt\n",
    "print(np.max(data_out), np.min(data_out))\n",
    "plt.imshow(data_out[0])"
   ]
  },
  {
   "cell_type": "code",
   "execution_count": null,
   "metadata": {},
   "outputs": [],
   "source": [
    "import fmks\n",
    "from fmks.data.cahn_hilliard import generate_cahn_hilliard_data\n",
    "import numpy as np\n",
    "\n",
    "X, y = generate_cahn_hilliard_data((400, 41, 41), delta_t=dt)\n"
   ]
  },
  {
   "cell_type": "code",
   "execution_count": null,
   "metadata": {},
   "outputs": [],
   "source": []
  },
  {
   "cell_type": "code",
   "execution_count": null,
   "metadata": {},
   "outputs": [],
   "source": [
    "plt.imshow(y[0])"
   ]
  },
  {
   "cell_type": "code",
   "execution_count": null,
   "metadata": {},
   "outputs": [],
   "source": [
    "def square(x):\n",
    "    for i in range(100000000):\n",
    "        y = x ** 2\n",
    "    return 5\n",
    "\n",
    "def neg(x):\n",
    "    return -x\n",
    "\n",
    "A = client.map(square, range(10))\n",
    "B = client.map(neg, A)\n",
    "total = client.submit(sum, B)\n",
    "total.result()"
   ]
  },
  {
   "cell_type": "code",
   "execution_count": null,
   "metadata": {},
   "outputs": [],
   "source": [
    "\n",
    "?da.linspace"
   ]
  },
  {
   "cell_type": "code",
   "execution_count": null,
   "metadata": {},
   "outputs": [],
   "source": [
    "samples = 100\n",
    "N = 100\n",
    "size = samples * N * N\n",
    "samples = 50"
   ]
  },
  {
   "cell_type": "code",
   "execution_count": null,
   "metadata": {},
   "outputs": [],
   "source": [
    "a = da.random.random((samples, N, N), chunks=(10, N, N))\n",
    "b = np.random.random((1, 100, 100))\n",
    "result = a * b\n"
   ]
  },
  {
   "cell_type": "code",
   "execution_count": null,
   "metadata": {},
   "outputs": [],
   "source": [
    "aa = da.random.random((50, 100, 100), chunks=(10, 100, 100))\n",
    "bb = da.random.random((1, 100, 100), chunks=(1, 100, 100))"
   ]
  },
  {
   "cell_type": "code",
   "execution_count": null,
   "metadata": {},
   "outputs": [],
   "source": [
    "bb.chunks"
   ]
  },
  {
   "cell_type": "code",
   "execution_count": null,
   "metadata": {},
   "outputs": [],
   "source": [
    "bb = da.indices((100, 100), chunks=(100, 100))"
   ]
  },
  {
   "cell_type": "code",
   "execution_count": null,
   "metadata": {},
   "outputs": [],
   "source": [
    "bb.compute()"
   ]
  },
  {
   "cell_type": "code",
   "execution_count": null,
   "metadata": {},
   "outputs": [],
   "source": [
    "result.dask"
   ]
  },
  {
   "cell_type": "code",
   "execution_count": null,
   "metadata": {},
   "outputs": [],
   "source": [
    "%%timeit\n",
    "a = da.linspace(0, 1, size, chunks=(size // 12,))\n",
    "b = a * a + a * a + a**3\n",
    "out = b.sum()\n",
    "result = out.compute()\n",
    "print(result)"
   ]
  },
  {
   "cell_type": "code",
   "execution_count": null,
   "metadata": {},
   "outputs": [],
   "source": [
    "%%timeit\n",
    "\n",
    "a = np.linspace(0, 1, size)\n",
    "b = a * a + a * a + a**3\n",
    "out = b.sum()\n",
    "print(out)\n"
   ]
  },
  {
   "cell_type": "code",
   "execution_count": null,
   "metadata": {},
   "outputs": [],
   "source": [
    "print(result)"
   ]
  },
  {
   "cell_type": "code",
   "execution_count": null,
   "metadata": {},
   "outputs": [],
   "source": [
    "import dask\n",
    "import numpy as np\n",
    "import matplotlib.pyplot as plt\n",
    "import dask.array as da"
   ]
  },
  {
   "cell_type": "code",
   "execution_count": null,
   "metadata": {},
   "outputs": [],
   "source": [
    "def func(x):\n",
    "    return 3 * x  - 1\n",
    "\n",
    "def make_data(x):\n",
    "    return 0.5 * (2 * np.random.random(x.shape) - 1) + func(x)"
   ]
  },
  {
   "cell_type": "code",
   "execution_count": null,
   "metadata": {},
   "outputs": [],
   "source": [
    "x = da.linspace(0, 10, 1000, chunks=10)\n",
    "y = func(x)\n",
    "plt.plot(x,y)\n",
    "plt.show()"
   ]
  },
  {
   "cell_type": "code",
   "execution_count": null,
   "metadata": {},
   "outputs": [],
   "source": [
    "x_ = da.random.random(1000, chunks=10) * 10\n",
    "y_ = make_data(x_)\n",
    "plt.plot(x_, y_, 'o')\n",
    "plt.show()"
   ]
  },
  {
   "cell_type": "code",
   "execution_count": null,
   "metadata": {},
   "outputs": [],
   "source": [
    "x__ = da.concatenate((x_[:,None], da.ones(1000, chunks=10)[:,None]), axis=-1)\n",
    "print(x__)"
   ]
  },
  {
   "cell_type": "code",
   "execution_count": null,
   "metadata": {},
   "outputs": [],
   "source": [
    "print(x__.shape)\n",
    "y__ = y_[:, None]\n",
    "print(x__)\n",
    "print(y__)\n",
    "\n",
    "da.linalg.lstsq(x__, y__)[0]\n"
   ]
  },
  {
   "cell_type": "code",
   "execution_count": null,
   "metadata": {},
   "outputs": [],
   "source": [
    "import dask.array as da\n",
    "x = np.arange(1000)\n",
    "y = da.from_array(x, chunks=(100))\n",
    "y.mean().compute()"
   ]
  },
  {
   "cell_type": "code",
   "execution_count": null,
   "metadata": {},
   "outputs": [],
   "source": []
  }
 ],
 "metadata": {
  "anaconda-cloud": {},
  "kernelspec": {
   "display_name": "Python 3",
   "language": "python",
   "name": "python3"
  },
  "language_info": {
   "codemirror_mode": {
    "name": "ipython",
    "version": 3
   },
   "file_extension": ".py",
   "mimetype": "text/x-python",
   "name": "python",
   "nbconvert_exporter": "python",
   "pygments_lexer": "ipython3",
   "version": "3.7.3"
  }
 },
 "nbformat": 4,
 "nbformat_minor": 1
}
