{
 "cells": [
  {
   "cell_type": "markdown",
   "metadata": {},
   "source": [
    "# Linear Elasticity in 3D\n",
    "\n",
    "## Introduction\n",
    "\n",
    "This example provides a demonstration of using PyMKS to compute the linear strain field for a two-phase composite material in 3D, and presents a comparison of the computational efficiency of MKS, when compared with the finite element method. The example first provides information on the boundary conditions, used in MKS. Next, delta microstructures are used to calibrate the first-order influence coefficients. The influence coefficients are then used to compute the strain field for a random microstructure. Lastly, the calibrated influence coefficients are scaled up and are used to compute the strain field for a larger microstructure and compared with results computed using finite element analysis."
   ]
  },
  {
   "cell_type": "markdown",
   "metadata": {},
   "source": [
    "### Elastostatics Equations and Boundary Conditions\n",
    "\n",
    "A review of the governing field equations for elastostatics can be found in the [Linear Elasticity in 2D](./elasticity.ipynb) example. The same equations are used in the example with the exception that the second lame parameter (shear modulus) $\\mu$ is defined differently in 3D.\n",
    "\n",
    "$$ \\mu = \\frac{E}{2(1+\\nu)} $$\n",
    "\n",
    "\n",
    "In general, generating the calibration data for the MKS requires boundary conditions that are both periodic and displaced, which are quite unusual boundary conditions. The ideal boundary conditions are given by:\n",
    "\n",
    "$$ u(L, y, z) = u(0, y, z) + L\\bar{\\varepsilon}_{xx} $$\n",
    "$$ u(0, L, L) = u(0, 0, L) = u(0, L, 0) = u(0, 0, 0) = 0  $$\n",
    "$$ u(x, 0, z) = u(x, L, z) $$\n",
    "$$ u(x, y, 0) = u(x, y, L) $$\n"
   ]
  },
  {
   "cell_type": "code",
   "execution_count": 1,
   "metadata": {},
   "outputs": [],
   "source": [
    "%matplotlib inline\n",
    "%load_ext autoreload\n",
    "%autoreload 2\n",
    "\n",
    "from numpy import random, array\n",
    "import matplotlib.pyplot as plt\n",
    "from pymks.fmks.data.delta import generate\n",
    "from pymks.fmks.data.elastic_fe import solve\n",
    "from pymks.fmks.plot import plot_microstructures\n",
    "from sklearn.pipeline import Pipeline\n",
    "from pymks.fmks.bases.primitive import PrimitiveTransformer\n",
    "from pymks.fmks.localization import LocalizationRegressor, coeff_to_real"
   ]
  },
  {
   "cell_type": "markdown",
   "metadata": {},
   "source": [
    "## Modeling with MKS\n",
    "\n",
    "### Calibration Data and Delta Microstructures\n",
    "\n",
    "The first-order MKS influence coefficients are all that is needed to compute a strain field of a random microstructure, as long as the ratio between the elastic moduli (also known as the contrast) is less than 1.5. If this condition is met, we can expect a mean absolute error of 2% or less, when comparing the MKS results with those computed using finite element methods [[1]](#ref1). \n",
    "\n",
    "Because we are using distinct phases and the contrast is low enough to only need the first order coefficients, delta microstructures and their strain fields are all that we need to calibrate the first-order influence coefficients [[2]](#ref2). \n",
    "\n",
    "The `generate` function from `pymks.fmks.data` can be used to create the two delta microstructures needed to calibrate the first-order influence coefficients for a two phase microstructure. This function uses the Python module [SfePy](http://sfepy.org/doc-devel/index.html) to compute the strain fields using finite element methods."
   ]
  },
  {
   "cell_type": "code",
   "execution_count": 2,
   "metadata": {},
   "outputs": [
    {
     "data": {
      "image/png": "[encoded data removed]",
      "text/plain": [
       "<Figure size 576x288 with 3 Axes>"
      ]
     },
     "metadata": {
      "needs_background": "light"
     },
     "output_type": "display_data"
    }
   ],
   "source": [
    "x_delta = generate(n_phases=2, shape=(9, 9, 9))\n",
    "\n",
    "plot_microstructures(\n",
    "    x_delta[0, x_delta.shape[1] // 2],\n",
    "    x_delta[1, x_delta.shape[1] // 2],\n",
    "    titles=['[0]', '[1]'],\n",
    "    cmap='gray'\n",
    ")"
   ]
  },
  {
   "cell_type": "markdown",
   "metadata": {},
   "source": [
    "Using delta microstructures for the calibration of the first-order influence coefficients is essentially the same as using a unit [impulse response](http://en.wikipedia.org/wiki/Impulse_response) to find the kernel of a system in signal processing. Delta microstructures are composed of only two phases. One phase is located only at the center cell of the microstructure, and the rest made up of the other phase. "
   ]
  },
  {
   "cell_type": "markdown",
   "metadata": {},
   "source": [
    "### Generating Calibration Data\n",
    "\n",
    "In this example, we look at a two-phase microstructure with elastic moduli values of 80 and 120 and Poisson's ratio values of 0.3 and 0.3, respectively. Let's also set the macroscopic imposed strain equal to 0.02. All of these parameters used in the simulation are used in the `solve` function from `pymks.fmks.data.elastic_fe` to calculate the elastic strain.  "
   ]
  },
  {
   "cell_type": "code",
   "execution_count": 4,
   "metadata": {},
   "outputs": [],
   "source": [
    "strain_xx = lambda x: solve(\n",
    "        x,\n",
    "        elastic_modulus=(80, 120),\n",
    "        poissons_ratio=(0.3, 0.3),\n",
    "        macro_strain=0.02\n",
    "    )['strain'][...,0]\n",
    "\n",
    "y_delta = strain_xx(x_delta).compute()"
   ]
  },
  {
   "cell_type": "markdown",
   "metadata": {},
   "source": [
    "Let's take a look at one of the delta microstructures and the $\\varepsilon_{xx}$ strain field."
   ]
  },
  {
   "cell_type": "code",
   "execution_count": 6,
   "metadata": {},
   "outputs": [
    {
     "data": {
      "image/png": "[encoded data removed]",
      "text/plain": [
       "<Figure size 288x288 with 2 Axes>"
      ]
     },
     "metadata": {
      "needs_background": "light"
     },
     "output_type": "display_data"
    }
   ],
   "source": [
    "plot_microstructures(\n",
    "    y_delta[0, x_delta.shape[1] // 2, :, :],\n",
    "    titles=[r'$\\mathbf{\\varepsilon_{xx}}$']\n",
    ")"
   ]
  },
  {
   "cell_type": "markdown",
   "metadata": {},
   "source": [
    "### Calibrating First Order Influence Coefficients\n",
    "\n",
    "Now that we have the delta microstructures and their strain fields, we can calibrate the influence coefficients by creating a model pipeline using the `PrimitiveTransformer` and the `LocalizationRegressor`."
   ]
  },
  {
   "cell_type": "code",
   "execution_count": 7,
   "metadata": {},
   "outputs": [],
   "source": [
    "model = Pipeline(steps=[\n",
    "    ('discretize', PrimitiveTransformer(n_state=2, min_=0.0, max_=1.0)),\n",
    "    ('regressor', LocalizationRegressor())\n",
    "])"
   ]
  },
  {
   "cell_type": "code",
   "execution_count": 8,
   "metadata": {},
   "outputs": [
    {
     "data": {
      "text/plain": [
       "Pipeline(memory=None,\n",
       "     steps=[('discretize', PrimitiveTransformer(chunks=None, max_=1.0, min_=0.0, n_state=2)), ('regressor', LocalizationRegressor(redundancy_func=<function LocalizationRegressor.<lambda> at 0x7f6e3bdab1e0>))])"
      ]
     },
     "execution_count": 8,
     "metadata": {},
     "output_type": "execute_result"
    }
   ],
   "source": [
    "model.fit(x_delta, y_delta)"
   ]
  },
  {
   "cell_type": "markdown",
   "metadata": {},
   "source": [
    "That's it, the influence coefficient have been calibrated. Let's take a look at them."
   ]
  },
  {
   "cell_type": "code",
   "execution_count": 9,
   "metadata": {},
   "outputs": [
    {
     "data": {
      "image/png": "[encoded data removed]",
      "text/plain": [
       "<Figure size 576x288 with 3 Axes>"
      ]
     },
     "metadata": {
      "needs_background": "light"
     },
     "output_type": "display_data"
    }
   ],
   "source": [
    "to_real = lambda x: coeff_to_real(x.steps[1][1].coeff).real\n",
    "\n",
    "coeff = to_real(model)\n",
    "plot_microstructures(\n",
    "    coeff[x_delta.shape[1] // 2, :, :, 0],\n",
    "    coeff[x_delta.shape[1] // 2, :, :, 1],\n",
    "    titles=['Influence coeff [0]', 'Influence coeff [1]']\n",
    ")"
   ]
  },
  {
   "cell_type": "markdown",
   "metadata": {},
   "source": [
    "The influence coefficients have a Gaussian-like shape."
   ]
  },
  {
   "cell_type": "markdown",
   "metadata": {},
   "source": [
    "### Predict of the Strain Field for a Random Microstructure\n",
    "\n",
    "Let's use the calibrated `model` to compute the strain field for a random two phase microstructure and compare it with the results from a finite element simulation. The `strain_xx` helper function is used to generate the strain field."
   ]
  },
  {
   "cell_type": "code",
   "execution_count": 20,
   "metadata": {},
   "outputs": [
    {
     "name": "stdout",
     "output_type": "stream",
     "text": [
      "CPU times: user 2min 50s, sys: 2min 48s, total: 5min 39s\n",
      "Wall time: 1min 55s\n"
     ]
    }
   ],
   "source": [
    "# NBVAL_IGNORE_OUTPUT\n",
    "\n",
    "random.seed(99)\n",
    "x_data = random.randint(2, size=(1,) + x_delta.shape[1:])\n",
    "%time y_fe = strain_xx(x_data)"
   ]
  },
  {
   "cell_type": "code",
   "execution_count": 11,
   "metadata": {},
   "outputs": [
    {
     "data": {
      "image/png": "[encoded data removed]",
      "text/plain": [
       "<Figure size 288x288 with 2 Axes>"
      ]
     },
     "metadata": {
      "needs_background": "light"
     },
     "output_type": "display_data"
    }
   ],
   "source": [
    "plot_microstructures(\n",
    "    x_data[0, x_delta.shape[1] // 2, :, :],\n",
    "    titles=['Microstructure']\n",
    ")"
   ]
  },
  {
   "cell_type": "code",
   "execution_count": 12,
   "metadata": {},
   "outputs": [
    {
     "data": {
      "image/png": "[encoded data removed]",
      "text/plain": [
       "<Figure size 288x288 with 2 Axes>"
      ]
     },
     "metadata": {
      "needs_background": "light"
     },
     "output_type": "display_data"
    }
   ],
   "source": [
    "plot_microstructures(\n",
    "    y_fe[0, x_delta.shape[1] // 2, :, :],\n",
    "    titles=[r'$\\mathbf{\\varepsilon_{xx}}$']\n",
    ")"
   ]
  },
  {
   "cell_type": "markdown",
   "metadata": {},
   "source": [
    "**Note that the calibrated influence coefficients can only be used to reproduce the simulation with the same boundary conditions that they were calibrated with.**\n",
    "\n",
    "Now to get the strain field from the model, pass the same microstructure to the `predict` method."
   ]
  },
  {
   "cell_type": "code",
   "execution_count": 13,
   "metadata": {},
   "outputs": [
    {
     "name": "stdout",
     "output_type": "stream",
     "text": [
      "CPU times: user 19.4 ms, sys: 0 ns, total: 19.4 ms\n",
      "Wall time: 17.9 ms\n"
     ]
    }
   ],
   "source": [
    "# NBVAL_IGNORE_OUTPUT\n",
    "\n",
    "%time y_mks = model.predict(x_data).compute()"
   ]
  },
  {
   "cell_type": "markdown",
   "metadata": {},
   "source": [
    "Finally let's compare the results from finite element simulation and the MKS model."
   ]
  },
  {
   "cell_type": "code",
   "execution_count": 14,
   "metadata": {},
   "outputs": [
    {
     "data": {
      "image/png": "[encoded data removed]",
      "text/plain": [
       "<Figure size 576x288 with 3 Axes>"
      ]
     },
     "metadata": {
      "needs_background": "light"
     },
     "output_type": "display_data"
    }
   ],
   "source": [
    "plot_microstructures(\n",
    "    y_fe[0, x_delta.shape[1] // 2, :, :],\n",
    "    y_mks[0, x_delta.shape[1] // 2, :, :],\n",
    "    titles=[\n",
    "        r'$\\mathbf{\\varepsilon_{xx}}$ - FE',\n",
    "        r'$\\mathbf{\\varepsilon_{xx}}$ - MKS'\n",
    "    ]\n",
    ")"
   ]
  },
  {
   "cell_type": "markdown",
   "metadata": {},
   "source": [
    "Let's look at the difference between the two plots."
   ]
  },
  {
   "cell_type": "code",
   "execution_count": 15,
   "metadata": {
    "scrolled": true
   },
   "outputs": [
    {
     "data": {
      "image/png": "[encoded data removed]",
      "text/plain": [
       "<Figure size 288x288 with 2 Axes>"
      ]
     },
     "metadata": {
      "needs_background": "light"
     },
     "output_type": "display_data"
    }
   ],
   "source": [
    "plot_microstructures(\n",
    "    (y_fe - y_mks)[0, x_delta.shape[1] // 2, :, :],\n",
    "    titles=['FE - MKS']\n",
    ")"
   ]
  },
  {
   "cell_type": "markdown",
   "metadata": {},
   "source": [
    "The MKS model is able to capture the strain field for the random microstructure after being calibrated with delta microstructures."
   ]
  },
  {
   "cell_type": "markdown",
   "metadata": {},
   "source": [
    "## Resizing the Coefficeints to use on Larger Microstructures \n",
    "\n",
    "The influence coefficients that were calibrated on a smaller microstructure can be used to predict the strain field on a larger microstructure though spectral interpolation [[3]](#ref3), but accuracy of the MKS model drops slightly. To demonstrate how this is done, let's generate a new larger $m$ by $m$ random microstructure and its strain field."
   ]
  },
  {
   "cell_type": "code",
   "execution_count": 16,
   "metadata": {},
   "outputs": [],
   "source": [
    "new_shape = tuple(array(x_delta.shape[1:]) * 3)\n",
    "x_large = random.randint(2, size=(1,) + new_shape)"
   ]
  },
  {
   "cell_type": "markdown",
   "metadata": {},
   "source": [
    "The influence coefficients that have already been calibrated need to be resized to match the shape of the new larger microstructure that we want to compute the strain field for. This can be done by passing the shape of the new larger microstructure into the `coeff_resize` method."
   ]
  },
  {
   "cell_type": "code",
   "execution_count": 17,
   "metadata": {},
   "outputs": [
    {
     "data": {
      "text/plain": [
       "LocalizationRegressor(redundancy_func=<function LocalizationRegressor.<lambda> at 0x7f6e3bdab1e0>)"
      ]
     },
     "execution_count": 17,
     "metadata": {},
     "output_type": "execute_result"
    }
   ],
   "source": [
    "model.steps[1][1].coeff_resize(x_large[0].shape)"
   ]
  },
  {
   "cell_type": "markdown",
   "metadata": {},
   "source": [
    "Use the resize coefficients to calculate large strain field. The coefficients can not now be used for the smaller microstructures."
   ]
  },
  {
   "cell_type": "code",
   "execution_count": 21,
   "metadata": {},
   "outputs": [
    {
     "name": "stdout",
     "output_type": "stream",
     "text": [
      "CPU times: user 29.4 ms, sys: 14.2 ms, total: 43.7 ms\n",
      "Wall time: 33.9 ms\n"
     ]
    }
   ],
   "source": [
    "# NBVAL_IGNORE_OUTPUT\n",
    "\n",
    "%time y_large = model.predict(x_large).compute()"
   ]
  },
  {
   "cell_type": "code",
   "execution_count": 19,
   "metadata": {},
   "outputs": [
    {
     "data": {
      "image/png": "[encoded data removed]",
      "text/plain": [
       "<Figure size 288x288 with 2 Axes>"
      ]
     },
     "metadata": {
      "needs_background": "light"
     },
     "output_type": "display_data"
    }
   ],
   "source": [
    "plot_microstructures(y_large[0, x_delta.shape[1] // 2], titles=[r'$\\mathbf{\\varepsilon_{xx}}$'])"
   ]
  },
  {
   "cell_type": "markdown",
   "metadata": {},
   "source": [
    "\n",
    "## References\n",
    "\n",
    "<a id=\"ref1\"></a>\n",
    "[1] Binci M., Fullwood D., Kalidindi S.R., *A new spectral framework for establishing localization relationships for elastic behav ior of composites and their calibration to finite-element models*. Acta Materialia, 2008. 56 (10): p. 2272-2282 [doi:10.1016/j.actamat.2008.01.017](http://dx.doi.org/10.1016/j.actamat.2008.01.017).\n",
    "\n",
    "<a id=\"ref2\"></a>\n",
    "[2] Landi, G., S.R. Niezgoda, S.R. Kalidindi, *Multi-scale modeling of elastic response of three-dimensional voxel-based microstructure datasets using novel DFT-based knowledge systems*. Acta Materialia, 2009. 58 (7): p. 2716-2725 [doi:10.1016/j.actamat.2010.01.007](http://dx.doi.org/10.1016/j.actamat.2010.01.007).\n",
    "\n",
    "<a id=\"ref3\"></a>\n",
    "[3] Marko, K., Kalidindi S.R., Fullwood D., *Computationally efficient database and spectral interpolation for fully plastic Taylor-type crystal plasticity calculations of face-centered cubic polycrystals*. International Journal of Plasticity 24 (2008) 1264–1276 [doi;10.1016/j.ijplas.2007.12.002](http://dx.doi.org/10.1016/j.ijplas.2007.12.002)."
   ]
  },
  {
   "cell_type": "code",
   "execution_count": null,
   "metadata": {},
   "outputs": [],
   "source": []
  }
 ],
 "metadata": {
  "anaconda-cloud": {},
  "kernelspec": {
   "display_name": "Python 3",
   "language": "python",
   "name": "python3"
  },
  "language_info": {
   "codemirror_mode": {
    "name": "ipython",
    "version": 3
   },
   "file_extension": ".py",
   "mimetype": "text/x-python",
   "name": "python",
   "nbconvert_exporter": "python",
   "pygments_lexer": "ipython3",
   "version": "3.7.3"
  }
 },
 "nbformat": 4,
 "nbformat_minor": 1
}
