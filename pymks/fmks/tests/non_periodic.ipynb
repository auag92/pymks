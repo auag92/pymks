{
 "cells": [
  {
   "cell_type": "markdown",
   "metadata": {},
   "source": [
    "# Implement Masking and Test Issue 517\n",
    "\n",
    "Testing for weighted masks and fix [#517](https://github.com/materialsinnovation/pymks/issues/517)."
   ]
  },
  {
   "cell_type": "code",
   "execution_count": 1,
   "metadata": {},
   "outputs": [],
   "source": [
    "import dask.array as da\n",
    "import numpy as np\n",
    "from pymks.fmks import correlations\n",
    "from pymks import plot_microstructures"
   ]
  },
  {
   "cell_type": "code",
   "execution_count": 2,
   "metadata": {},
   "outputs": [],
   "source": [
    "A = da.from_array(np.array([\n",
    "    [\n",
    "        [1, 0, 0],\n",
    "        [0, 1, 1],\n",
    "        [1, 1, 0]\n",
    "    ],\n",
    "    [\n",
    "        [0, 0, 1],\n",
    "        [1, 0, 0],\n",
    "        [0, 0, 1]\n",
    "    ]\n",
    "]))\n",
    "mask = np.ones((2,3,3))\n",
    "mask[:,2,1:] = 0\n",
    "mask = da.from_array(mask)"
   ]
  },
  {
   "cell_type": "code",
   "execution_count": 3,
   "metadata": {},
   "outputs": [
    {
     "data": {
      "image/png": "[encoded data removed]",
      "text/plain": [
       "<Figure size 360x180 with 3 Axes>"
      ]
     },
     "metadata": {
      "needs_background": "light"
     },
     "output_type": "display_data"
    },
    {
     "data": {
      "image/png": "[encoded data removed]",
      "text/plain": [
       "<Figure size 360x180 with 3 Axes>"
      ]
     },
     "metadata": {
      "needs_background": "light"
     },
     "output_type": "display_data"
    }
   ],
   "source": [
    "plot_microstructures(A[0], A[1],\n",
    "                     titles=['Structure[0]', 'Structure[1]'],\n",
    "                     cmap='gray', figsize_weight=2.5)\n",
    "plot_microstructures(mask[0], mask[1],\n",
    "                     titles=['Mask[0]', 'Mask[1]'],\n",
    "                     cmap='viridis', figsize_weight=2.5)\n"
   ]
  },
  {
   "cell_type": "markdown",
   "metadata": {},
   "source": [
    "## Check that periodic still works\n",
    "\n",
    "The normalization occurs in the two_point_stats function and the auto-correlation/cross-correlation occur in the cross_correlation function. Checking that the normalization is properly calculated.\n",
    "\n",
    "First is the auto-correlation. Second is the cross-correlation."
   ]
  },
  {
   "cell_type": "code",
   "execution_count": 4,
   "metadata": {},
   "outputs": [],
   "source": [
    "correct = (correlations.cross_correlation(A, A).compute() / 9).round(3).astype(np.float64)\n",
    "tested = correlations.two_point_stats(A, A).compute().round(3).astype(np.float64)\n",
    "assert (correct == tested).all()"
   ]
  },
  {
   "cell_type": "code",
   "execution_count": 5,
   "metadata": {},
   "outputs": [],
   "source": [
    "correct = (correlations.cross_correlation(A, 1-A).compute() / 9).round(3).astype(np.float64)\n",
    "tested = correlations.two_point_stats(A, 1-A).compute().round(3).astype(np.float64)\n",
    "assert (correct == tested).all()"
   ]
  },
  {
   "cell_type": "markdown",
   "metadata": {},
   "source": [
    "## Check that masked periodic works\n",
    "\n",
    "Two point statistics are part correlation and part normalization. The correlation sums up the number of possible 2-point states. In masked periodic, we assume that vectors going across the boundary of the structure come back on the other side. However, a vector landing in the masked area is discarded (ie not included in the correlation sum).\n",
    "\n",
    "Below, are the hand computed correlation and normalization. The correct 2point stats are the correlation divided by the normalization. First, is the auto-correlation and second is the cross-correlation."
   ]
  },
  {
   "cell_type": "code",
   "execution_count": 6,
   "metadata": {},
   "outputs": [],
   "source": [
    "correct_periodic_mask_auto = np.array([\n",
    "    [\n",
    "        [2,1,2],\n",
    "        [1,4,1],\n",
    "        [2,1,2]\n",
    "    ],\n",
    "    [\n",
    "        [1,0,0],\n",
    "        [0,2,0],\n",
    "        [0,0,1]\n",
    "    ]\n",
    "])\n",
    "\n",
    "correct_periodic_mask_cross = np.array([\n",
    "    [\n",
    "        [1,3,1],\n",
    "        [2,0,2],\n",
    "        [1,1,1]\n",
    "    ],\n",
    "    [\n",
    "        [0,1,2],\n",
    "        [2,0,2],\n",
    "        [1,2,0]\n",
    "    ]\n",
    "])\n",
    "\n",
    "norm_periodic_mask = np.array([\n",
    "    [5,5,5],\n",
    "    [6,7,6],\n",
    "    [5,5,5]\n",
    "])\n",
    "\n",
    "# Auto-Correlation\n",
    "correct = (correct_periodic_mask_auto / norm_periodic_mask).round(3).astype(np.float64)\n",
    "tested = correlations.two_point_stats(A, A, mask=mask, periodic_boundary=True).compute().round(3).astype(np.float64)\n",
    "\n",
    "assert (correct == tested).all()\n",
    "\n",
    "# Cross-Correlation\n",
    "correct = (correct_periodic_mask_cross / norm_periodic_mask).round(3).astype(np.float64)\n",
    "tested = correlations.two_point_stats(A, 1-A, mask=mask, periodic_boundary=True).compute().round(3).astype(np.float64)\n",
    "\n",
    "assert (correct == tested).all()"
   ]
  },
  {
   "cell_type": "markdown",
   "metadata": {},
   "source": [
    "## Test that non-periodic works\n",
    "\n",
    "Two point statistics are part correlation and part normalization. The correlation sums up the number of possible 2-point states. In non-periodic, we assume that a vector used to count up 2 point states can only connect two states in the structure. A vector going outside of the bounds of the structure is not counted.\n",
    "\n",
    "Below, are the hand computed correlation and normalization. The correct 2point stats are the correlation divided by the normalization. First, is the auto-correlation and second is the cross-correlation."
   ]
  },
  {
   "cell_type": "code",
   "execution_count": 7,
   "metadata": {},
   "outputs": [],
   "source": [
    "correct_nonperiodic_auto = np.array([\n",
    "    [\n",
    "        [1,1,2],\n",
    "        [2,5,2],\n",
    "        [2,1,1]\n",
    "    ],\n",
    "    [\n",
    "        [0,0,0],\n",
    "        [0,3,0],\n",
    "        [0,0,0]\n",
    "    ]\n",
    "])\n",
    "\n",
    "correct_nonperiodic_cross = np.array([\n",
    "    [\n",
    "        [2,3,1],\n",
    "        [1,0,2],\n",
    "        [0,2,1]\n",
    "    ],\n",
    "    [\n",
    "        [1,2,1],\n",
    "        [2,0,1],\n",
    "        [1,2,1]\n",
    "    ]\n",
    "])\n",
    "\n",
    "norm_nonperiodic = np.array([\n",
    "    [4,6,4],\n",
    "    [6,9,6],\n",
    "    [4,6,4]\n",
    "])\n",
    "\n",
    "# Auto-Correlation\n",
    "correct = (correct_nonperiodic_auto / norm_nonperiodic).round(3).astype(np.float64)\n",
    "tested = correlations.two_point_stats(A, A, periodic_boundary=False).compute().round(3).astype(np.float64)\n",
    "\n",
    "assert (correct == tested).all()\n",
    "\n",
    "# Cross-Correlation\n",
    "correct = (correct_nonperiodic_cross / norm_nonperiodic).round(3).astype(np.float64)\n",
    "tested = correlations.two_point_stats(A, 1-A, periodic_boundary=False).compute().round(3).astype(np.float64)\n",
    "\n",
    "assert (correct == tested).all()"
   ]
  },
  {
   "cell_type": "markdown",
   "metadata": {},
   "source": [
    "## Check that non-periodic masking works\n",
    "\n",
    "In non-periodic masking, vectors that go across the boundary or land in a mask are not included in the sum."
   ]
  },
  {
   "cell_type": "code",
   "execution_count": 8,
   "metadata": {},
   "outputs": [],
   "source": [
    "correct_nonperiodic_mask_auto = np.array([\n",
    "    [\n",
    "        [1,0,1],\n",
    "        [1,4,1],\n",
    "        [1,0,1]\n",
    "    ],\n",
    "    [\n",
    "        [0,0,0],\n",
    "        [0,2,0],\n",
    "        [0,0,0]\n",
    "    ]\n",
    "])\n",
    "\n",
    "correct_nonperiodic_mask_cross = np.array([\n",
    "    [\n",
    "        [1,3,1],\n",
    "        [1,0,1],\n",
    "        [0,1,0]\n",
    "    ],\n",
    "    [\n",
    "        [0,1,1],\n",
    "        [1,0,1],\n",
    "        [1,2,0]\n",
    "    ]\n",
    "])\n",
    "\n",
    "norm_nonperiodic_mask = np.array([\n",
    "    [2,4,3],\n",
    "    [4,7,4],\n",
    "    [3,4,2]\n",
    "])\n",
    "\n",
    "# Auto-Correlation\n",
    "correct = (correct_nonperiodic_mask_auto / norm_nonperiodic_mask).round(3).astype(np.float64)\n",
    "tested = correlations.two_point_stats(A, A, mask=mask, periodic_boundary=False).compute().round(3).astype(np.float64)\n",
    "assert (correct == tested).all()\n",
    "\n",
    "# Cross-Correlation\n",
    "correct = (correct_nonperiodic_mask_cross / norm_nonperiodic_mask).round(3).astype(np.float64)\n",
    "tested = correlations.two_point_stats(A, 1-A, mask=mask, periodic_boundary=False).compute().round(3).astype(np.float64)\n",
    "assert (correct == tested).all()"
   ]
  },
  {
   "cell_type": "markdown",
   "metadata": {},
   "source": [
    "## Check that different sized dask arrays are valid masks.\n",
    "\n",
    "We want to be able to specify the same mask for each sample. We also want to be able to specify a different mask for each sample. This validates that both are possible."
   ]
  },
  {
   "cell_type": "code",
   "execution_count": 9,
   "metadata": {},
   "outputs": [],
   "source": [
    "A = da.random.random([1000,3,3])\n",
    "\n",
    "mask_same4all = da.random.randint(0,2,[3,3])\n",
    "mask_same4some = da.random.randint(0,2,[100,3,3])\n",
    "mask_diff4all = da.random.randint(0,2,[1000,3,3])\n",
    "\n",
    "correlations.two_point_stats(A, A, mask=mask_same4all)\n",
    "# The following check fails. Therefore, the current implementation\n",
    "# only works for one mask for all or different mask for all, which\n",
    "# is feature rich enough for me.\n",
    "# correlations.two_point_stats(A, A, mask=mask_same4some)\n",
    "correlations.two_point_stats(A, A, mask=mask_diff4all);"
   ]
  },
  {
   "cell_type": "markdown",
   "metadata": {},
   "source": [
    "## Some check that boolean and integers are valid masks\n",
    "\n",
    "A mask could be true and false specifying where there is a microstructure. However, it could also be any value in the range $[0,1]$ which specifies the probability a value is correctly assigned. The mask right now only implements confidence in a single phase, although idealy it should represent the confidence in all phases. However, for the use cases where there are 2 phases, a mask with a probability for one phase also completely describes the confidence in the other phase. Therefore, this implementation is complete for 2 phases."
   ]
  },
  {
   "cell_type": "code",
   "execution_count": 10,
   "metadata": {},
   "outputs": [
    {
     "name": "stdout",
     "output_type": "stream",
     "text": [
      "int64 bool\n"
     ]
    }
   ],
   "source": [
    "mask_int = da.random.randint(0,2,[1000,3,3])\n",
    "mask_bool = mask_int.copy().astype(bool)\n",
    "\n",
    "print(mask_int.dtype, mask_bool.dtype)\n",
    "\n",
    "correlations.two_point_stats(A, A, mask=mask_int)\n",
    "correlations.two_point_stats(A, A, mask=mask_bool);"
   ]
  },
  {
   "cell_type": "code",
   "execution_count": null,
   "metadata": {},
   "outputs": [],
   "source": []
  }
 ],
 "metadata": {
  "kernelspec": {
   "display_name": "Python 3",
   "language": "python",
   "name": "python3"
  },
  "language_info": {
   "codemirror_mode": {
    "name": "ipython",
    "version": 3
   },
   "file_extension": ".py",
   "mimetype": "text/x-python",
   "name": "python",
   "nbconvert_exporter": "python",
   "pygments_lexer": "ipython3",
   "version": "3.7.6"
  }
 },
 "nbformat": 4,
 "nbformat_minor": 4
}
